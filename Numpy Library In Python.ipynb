{
 "cells": [
  {
   "cell_type": "code",
   "execution_count": 1,
   "metadata": {},
   "outputs": [],
   "source": [
    "import numpy as np\n"
   ]
  },
  {
   "cell_type": "code",
   "execution_count": 2,
   "metadata": {},
   "outputs": [
    {
     "name": "stdout",
     "output_type": "stream",
     "text": [
      "[12.   13.   23.78 45.  ]\n"
     ]
    }
   ],
   "source": [
    "a=np.array([12,13,23.78,45])\n",
    "print(a) # if there is a single float value,every element of array datatype will be float type"
   ]
  },
  {
   "cell_type": "code",
   "execution_count": 4,
   "metadata": {},
   "outputs": [
    {
     "name": "stdout",
     "output_type": "stream",
     "text": [
      "Array Type :  <class 'numpy.ndarray'>\n"
     ]
    }
   ],
   "source": [
    "print(\"Array Type : \",type(a))"
   ]
  },
  {
   "cell_type": "code",
   "execution_count": 6,
   "metadata": {},
   "outputs": [
    {
     "name": "stdout",
     "output_type": "stream",
     "text": [
      "Data Type :  float64\n"
     ]
    }
   ],
   "source": [
    "print(\"Data Type : \",a.dtype)b\n"
   ]
  },
  {
   "cell_type": "code",
   "execution_count": 7,
   "metadata": {},
   "outputs": [
    {
     "name": "stdout",
     "output_type": "stream",
     "text": [
      "Dimensions : 1\n"
     ]
    }
   ],
   "source": [
    "#find dimenations\n",
    "print(\"Dimensions :\",a.ndim)"
   ]
  },
  {
   "cell_type": "code",
   "execution_count": 9,
   "metadata": {},
   "outputs": [
    {
     "name": "stdout",
     "output_type": "stream",
     "text": [
      "Shape : (4,)\n"
     ]
    }
   ],
   "source": [
    "#find shape of a array\n",
    "print(\"Shape :\",a.shape)"
   ]
  },
  {
   "cell_type": "code",
   "execution_count": 10,
   "metadata": {},
   "outputs": [
    {
     "name": "stdout",
     "output_type": "stream",
     "text": [
      "[[12.   13.   23.78 45.  ]\n",
      " [45.   22.   45.   55.  ]]\n"
     ]
    }
   ],
   "source": [
    "# Create a 2D array\n",
    "b = np.array([[12,13,23.78,45],[45,22,45,55]])\n",
    "print(b)"
   ]
  },
  {
   "cell_type": "code",
   "execution_count": 13,
   "metadata": {},
   "outputs": [
    {
     "name": "stdout",
     "output_type": "stream",
     "text": [
      "Array type  <class 'numpy.ndarray'>\n",
      "Data type float64\n",
      "Dimensions:  2\n",
      "Shape : (2, 4)\n"
     ]
    }
   ],
   "source": [
    "print(\"Array type \",type(b))\n",
    "print(\"Data type\",b.dtype)\n",
    "print(\"Dimensions: \",b.ndim)\n",
    "print(\"Shape :\",b.shape)"
   ]
  },
  {
   "cell_type": "code",
   "execution_count": 14,
   "metadata": {},
   "outputs": [
    {
     "name": "stdout",
     "output_type": "stream",
     "text": [
      "[[[ 1  2  3]\n",
      "  [10 20 30]]\n",
      "\n",
      " [[ 5  6  7]\n",
      "  [ 8  9 10]]]\n"
     ]
    }
   ],
   "source": [
    "# Create 3D Arrays\n",
    "s = np.array([[[1,2,3],[10,20,30]],[[5,6,7],[8,9,10]]])\n",
    "print(s)"
   ]
  },
  {
   "cell_type": "code",
   "execution_count": 15,
   "metadata": {},
   "outputs": [
    {
     "name": "stdout",
     "output_type": "stream",
     "text": [
      "Array type  <class 'numpy.ndarray'>\n",
      "Data type int32\n",
      "Dimensions:  3\n",
      "shape : (2, 2, 3)\n"
     ]
    }
   ],
   "source": [
    "\n",
    "print(\"Array type \",type(s))\n",
    "print(\"Data type\",s.dtype)\n",
    "print(\"Dimensions: \",s.ndim)\n",
    "print(\"shape :\",s.shape)"
   ]
  },
  {
   "cell_type": "code",
   "execution_count": 17,
   "metadata": {},
   "outputs": [
    {
     "name": "stdout",
     "output_type": "stream",
     "text": [
      "[0 1 2 3 4 5 6 7 8 9]\n"
     ]
    }
   ],
   "source": [
    "# create a 2D \n",
    "array = np.arange(10)\n",
    "print(array)"
   ]
  },
  {
   "cell_type": "code",
   "execution_count": 18,
   "metadata": {},
   "outputs": [
    {
     "data": {
      "text/plain": [
       "array([[ 1,  3,  5,  7],\n",
       "       [ 9, 11, 13, 15],\n",
       "       [17, 19, 21, 23],\n",
       "       [25, 27, 29, 31]])"
      ]
     },
     "execution_count": 18,
     "metadata": {},
     "output_type": "execute_result"
    }
   ],
   "source": [
    "array1 = np.arange(1,32,2).reshape(4,4)\n",
    "array1"
   ]
  },
  {
   "cell_type": "code",
   "execution_count": 19,
   "metadata": {},
   "outputs": [
    {
     "name": "stdout",
     "output_type": "stream",
     "text": [
      "Array type  <class 'numpy.ndarray'>\n",
      "Data type int32\n",
      "Dimensions:  2\n",
      "shape : (4, 4)\n"
     ]
    }
   ],
   "source": [
    "print(\"Array type \",type(array1))\n",
    "print(\"Data type\",array1.dtype)\n",
    "print(\"Dimensions: \",array1.ndim)\n",
    "print(\"shape :\",array1.shape)"
   ]
  },
  {
   "cell_type": "code",
   "execution_count": 20,
   "metadata": {},
   "outputs": [
    {
     "name": "stdout",
     "output_type": "stream",
     "text": [
      "[[ 9 11 13 15]\n",
      " [17 19 21 23]]\n"
     ]
    }
   ],
   "source": [
    "print(array1[1:3]) # it will print row 1,2"
   ]
  },
  {
   "cell_type": "code",
   "execution_count": 21,
   "metadata": {},
   "outputs": [
    {
     "name": "stdout",
     "output_type": "stream",
     "text": [
      "[[13 15]\n",
      " [21 23]]\n"
     ]
    }
   ],
   "source": [
    "print(array1[1:3,2:4]) # it will print  1,2 row's of 2,3 columns \n"
   ]
  },
  {
   "cell_type": "code",
   "execution_count": 22,
   "metadata": {},
   "outputs": [
    {
     "name": "stdout",
     "output_type": "stream",
     "text": [
      "15\n"
     ]
    }
   ],
   "source": [
    "print(array1[1,-1]) # it will print last element of 1st row "
   ]
  },
  {
   "cell_type": "code",
   "execution_count": 23,
   "metadata": {},
   "outputs": [],
   "source": [
    "# update element \n",
    "array1[2,1] = 80"
   ]
  },
  {
   "cell_type": "code",
   "execution_count": 24,
   "metadata": {},
   "outputs": [
    {
     "name": "stdout",
     "output_type": "stream",
     "text": [
      "[[ 1  3  5  7]\n",
      " [ 9 11 13 15]\n",
      " [17 80 21 23]\n",
      " [25 27 29 31]]\n"
     ]
    }
   ],
   "source": [
    "print(array1)"
   ]
  },
  {
   "cell_type": "code",
   "execution_count": 27,
   "metadata": {},
   "outputs": [
    {
     "name": "stdout",
     "output_type": "stream",
     "text": [
      "[[0 0 0]\n",
      " [0 0 0]\n",
      " [0 0 0]]\n",
      "Data type :  int32\n",
      "[[1. 1. 1.]\n",
      " [1. 1. 1.]\n",
      " [1. 1. 1.]]\n",
      "Data type :  float64\n",
      "[[1. 1. 1.]\n",
      " [1. 1. 1.]\n",
      " [1. 1. 1.]]\n",
      "Data type :  float64\n"
     ]
    }
   ],
   "source": [
    "# create zero's array \n",
    "zero_array = np.zeros((3,3),dtype = 'int32')\n",
    "print(zero_array)\n",
    "print(\"Data type : \",zero_array.dtype)\n",
    "ones_array = np.ones((3,3))\n",
    "print(ones_array) # if we don't define data type of element , it will by defualt consider float\n",
    "print(\"Data type : \",ones_array.dtype)\n",
    "empty_array = np.empty((3,3))\n",
    "print(empty_array)\n",
    "print(\"Data type : \",empty_array.dtype)"
   ]
  },
  {
   "cell_type": "code",
   "execution_count": 29,
   "metadata": {},
   "outputs": [
    {
     "name": "stdout",
     "output_type": "stream",
     "text": [
      "[[1. 1. 1.]\n",
      " [1. 1. 1.]\n",
      " [1. 1. 1.]]\n",
      "Data type :  float64\n"
     ]
    }
   ],
   "source": [
    "empty_array = np.empty([3,3])\n",
    "print(empty_array)\n",
    "print(\"Data type : \",empty_array.dtype)"
   ]
  },
  {
   "cell_type": "code",
   "execution_count": 28,
   "metadata": {},
   "outputs": [
    {
     "ename": "TypeError",
     "evalue": "data type not understood",
     "output_type": "error",
     "traceback": [
      "\u001b[1;31m---------------------------------------------------------------------------\u001b[0m",
      "\u001b[1;31mTypeError\u001b[0m                                 Traceback (most recent call last)",
      "\u001b[1;32m<ipython-input-28-c2e974675fe9>\u001b[0m in \u001b[0;36m<module>\u001b[1;34m\u001b[0m\n\u001b[1;32m----> 1\u001b[1;33m \u001b[0mempty_array\u001b[0m \u001b[1;33m=\u001b[0m \u001b[0mnp\u001b[0m\u001b[1;33m.\u001b[0m\u001b[0mempty\u001b[0m\u001b[1;33m(\u001b[0m\u001b[1;36m3\u001b[0m\u001b[1;33m,\u001b[0m\u001b[1;36m3\u001b[0m\u001b[1;33m)\u001b[0m\u001b[1;33m\u001b[0m\u001b[1;33m\u001b[0m\u001b[0m\n\u001b[0m\u001b[0;32m      2\u001b[0m \u001b[0mprint\u001b[0m\u001b[1;33m(\u001b[0m\u001b[0mempty_array\u001b[0m\u001b[1;33m)\u001b[0m\u001b[1;33m\u001b[0m\u001b[1;33m\u001b[0m\u001b[0m\n\u001b[0;32m      3\u001b[0m \u001b[0mprint\u001b[0m\u001b[1;33m(\u001b[0m\u001b[1;34m\"Data type : \"\u001b[0m\u001b[1;33m,\u001b[0m\u001b[0mempty_array\u001b[0m\u001b[1;33m.\u001b[0m\u001b[0mdtype\u001b[0m\u001b[1;33m)\u001b[0m\u001b[1;33m\u001b[0m\u001b[1;33m\u001b[0m\u001b[0m\n",
      "\u001b[1;31mTypeError\u001b[0m: data type not understood"
     ]
    }
   ],
   "source": [
    "empty_array = np.empty(3,3)\n",
    "print(empty_array)\n",
    "print(\"Data type : \",empty_array.dtype)\n",
    "\n",
    "#When creating an array filled with zeros using np.empty(), you need to pass the shape as a single argument,\n",
    "#------which should be a tuple or list"
   ]
  },
  {
   "cell_type": "markdown",
   "metadata": {},
   "source": [
    "\"\"\"In NumPy, float64 refers to the data type for floating-point numbers with 64 bits of precision. It is also known as double precision.\n",
    "\n",
    "The term \"64\" in float64 represents the number of bits used to store each floating-point value.\"\"\""
   ]
  },
  {
   "cell_type": "code",
   "execution_count": 30,
   "metadata": {},
   "outputs": [
    {
     "name": "stdout",
     "output_type": "stream",
     "text": [
      "[[2. 2. 2.]\n",
      " [2. 2. 2.]\n",
      " [2. 2. 2.]]\n"
     ]
    }
   ],
   "source": [
    "new_array = ones_array+ empty_array\n",
    "print(new_array)"
   ]
  },
  {
   "cell_type": "code",
   "execution_count": 34,
   "metadata": {},
   "outputs": [
    {
     "name": "stdout",
     "output_type": "stream",
     "text": [
      "[[2 2 2]\n",
      " [2 2 2]\n",
      " [2 2 2]]\n",
      "Data Type of New Array  int32\n"
     ]
    }
   ],
   "source": [
    "# update data type of array\n",
    "# It's important to note that the astype() method returns a new array with the updated dtype, \n",
    "# ---rather than modifying the original array in-place.\n",
    "new_array = new_array.astype(int)\n",
    "print(new_array)\n",
    "print(\"Data Type of New Array \",new_array.dtype)"
   ]
  },
  {
   "cell_type": "code",
   "execution_count": 36,
   "metadata": {},
   "outputs": [
    {
     "name": "stdout",
     "output_type": "stream",
     "text": [
      "[[2 2 2]\n",
      " [2 2 2]\n",
      " [2 2 2]]\n"
     ]
    }
   ],
   "source": [
    "print(new_array*ones_array.astype(int)) # matrix multiplication"
   ]
  },
  {
   "cell_type": "code",
   "execution_count": 38,
   "metadata": {},
   "outputs": [
    {
     "name": "stdout",
     "output_type": "stream",
     "text": [
      "[[6. 6. 6.]\n",
      " [6. 6. 6.]\n",
      " [6. 6. 6.]]\n"
     ]
    }
   ],
   "source": [
    "print(empty_array.dot(new_array))"
   ]
  },
  {
   "cell_type": "code",
   "execution_count": 40,
   "metadata": {},
   "outputs": [
    {
     "name": "stdout",
     "output_type": "stream",
     "text": [
      "[[1 2]\n",
      " [3 4]]\n",
      "[[5 6]\n",
      " [7 8]]\n",
      "[[19 22]\n",
      " [43 50]]\n"
     ]
    }
   ],
   "source": [
    "\"\"\"\n",
    "The dot product or matrix multiplication is performed by taking the sum of the elementwise multiplication of \n",
    "the corresponding rows in the first array (a) and the corresponding columns in the second array (b).\n",
    "\"\"\"\n",
    "a = np.array([[1, 2],[3, 4]])\n",
    "print(a)\n",
    "b = np.array([[5, 6],[7, 8]])\n",
    "print(b)\n",
    "print(a.dot(b))\n",
    "#result[0, 0] = (1 * 5) + (2 * 7) = 19\n",
    "#result[0, 1] = (1 * 6) + (2 * 8) = 22\n",
    "#result[1, 0] = (3 * 5) + (4 * 7) = 43\n",
    "#result[1, 1] = (3 * 6) + (4 * 8) = 50"
   ]
  },
  {
   "cell_type": "code",
   "execution_count": null,
   "metadata": {},
   "outputs": [],
   "source": []
  },
  {
   "cell_type": "code",
   "execution_count": 42,
   "metadata": {},
   "outputs": [
    {
     "name": "stdout",
     "output_type": "stream",
     "text": [
      "[[1 0 0]\n",
      " [0 1 0]\n",
      " [0 0 1]]\n"
     ]
    }
   ],
   "source": [
    "# identity matrix / unix matrix \n",
    "# --- Diagonal elements ( top left to bottom) are 1 and other are 0 \n",
    "# if will create only squre identity matrix\n",
    "a = np.identity(3,dtype ='int')\n",
    "print(a)"
   ]
  },
  {
   "cell_type": "code",
   "execution_count": 45,
   "metadata": {},
   "outputs": [
    {
     "name": "stdout",
     "output_type": "stream",
     "text": [
      "[[1 0 0 0]\n",
      " [0 1 0 0]\n",
      " [0 0 1 0]]\n"
     ]
    }
   ],
   "source": [
    "# eye() is used to create an identity matrix or an array with ones along themain diagonal and zeros elsewhere\n",
    "# It can create both square and non-square identity matrices.\n",
    "#It takes three parameters: m (number of rows), n (number of columns, optional), and k (diagonal offset, optional)\n",
    "b = np.eye(3,4,dtype='int32')\n",
    "print(b)"
   ]
  },
  {
   "cell_type": "code",
   "execution_count": 47,
   "metadata": {},
   "outputs": [
    {
     "name": "stdout",
     "output_type": "stream",
     "text": [
      "[[0 1 0 0]\n",
      " [0 0 1 0]\n",
      " [0 0 0 1]]\n"
     ]
    }
   ],
   "source": [
    "b = np.eye(3,4,k=1,dtype='int32')\n",
    "print(b) # k determines diagonal offset, which means is filled with ones\n",
    "#Setting k to a positive or negative integer moves the diagonal up or down, respectively.\n"
   ]
  },
  {
   "cell_type": "markdown",
   "metadata": {},
   "source": [
    "# Filter Array "
   ]
  },
  {
   "cell_type": "code",
   "execution_count": 50,
   "metadata": {},
   "outputs": [
    {
     "name": "stdout",
     "output_type": "stream",
     "text": [
      "[2 4]\n"
     ]
    }
   ],
   "source": [
    "arr = np.array([1,2,3,4,5])\n",
    "condition = arr%2 ==0 # condition is boolean array of same shape \n",
    "#[False, True, False, True, False]\n",
    "filter_array = arr[condition]\n",
    "print(filter_array)\n",
    "###you can apply the condition to the array using boolean indexing. Boolean indexing involves passing the condition inside \n",
    "# ---square brackets to select the elements that satisfy the condition."
   ]
  },
  {
   "cell_type": "code",
   "execution_count": 51,
   "metadata": {},
   "outputs": [
    {
     "name": "stdout",
     "output_type": "stream",
     "text": [
      "[[12 13 14 15]\n",
      " [ 3 24 13  6]\n",
      " [10 18  1  2]]\n"
     ]
    }
   ],
   "source": [
    "a=np.array([[12,13,14,15],[3,24,13,6],[10,18,1,2]])\n",
    "print(a)"
   ]
  },
  {
   "cell_type": "code",
   "execution_count": 52,
   "metadata": {},
   "outputs": [
    {
     "name": "stdout",
     "output_type": "stream",
     "text": [
      "[12 24  6 18]\n"
     ]
    }
   ],
   "source": [
    "print(a[a%6==0])"
   ]
  },
  {
   "cell_type": "code",
   "execution_count": 53,
   "metadata": {},
   "outputs": [
    {
     "name": "stdout",
     "output_type": "stream",
     "text": [
      "[12 13 14 15 24 13  6 10 18]\n"
     ]
    }
   ],
   "source": [
    "print(a[a>5])"
   ]
  },
  {
   "cell_type": "markdown",
   "metadata": {},
   "source": [
    "# to search the values\n",
    "# np.where() --- it returns the indices where the condition is True, allowing \n",
    "# --- allow you to filter or replace element in an array \n",
    "\n",
    "\n",
    "'''\n",
    "The condition a % 2 == 0 is evaluated. This condition checks if each element in the array a is divisible by 2 without  \n",
    "remainder.The result is a boolean array of the same shape as a, where each element is \n",
    "True if the corresponding element in a is even and False otherwise.\n",
    "\n",
    "The np.where() function is then applied to this condition. It takes the boolean array as the argument and returns the indices \n",
    "where the condition is True. In this case, it returns a tuple containing the row indices of the even elements.\n",
    "\n",
    "The expression np.where(a % 2 == 0)[0] retrieves the first element of the tuple returned by np.where(). This element \n",
    "contains the row indices where the condition is True.\n",
    "\n",
    "The .data attribute is then accessed, which returns a pointer to the data of the array.\n",
    "This is an implementation detail and is not typically used directly in regular code.\n",
    "'''\n"
   ]
  },
  {
   "cell_type": "code",
   "execution_count": null,
   "metadata": {},
   "outputs": [],
   "source": [
    "print(list(np.where(a%2==0)))"
   ]
  },
  {
   "cell_type": "code",
   "execution_count": 55,
   "metadata": {},
   "outputs": [
    {
     "name": "stdout",
     "output_type": "stream",
     "text": [
      "[54 46 31]\n",
      "[25 55 28 23]\n",
      "131\n"
     ]
    }
   ],
   "source": [
    "# to find sum of all values \n",
    "\n",
    "print(np.sum(a,axis =1)) # row wise sum\n",
    "print(np.sum(a,axis =0))# column wise sum\n",
    "print(np.sum(a))\n"
   ]
  },
  {
   "cell_type": "code",
   "execution_count": 56,
   "metadata": {},
   "outputs": [
    {
     "name": "stdout",
     "output_type": "stream",
     "text": [
      "10.916666666666666\n"
     ]
    }
   ],
   "source": [
    "#to find mean\n",
    "print(np.mean(a))"
   ]
  },
  {
   "cell_type": "code",
   "execution_count": 59,
   "metadata": {},
   "outputs": [
    {
     "name": "stdout",
     "output_type": "stream",
     "text": [
      "[10 20 30 11 12 13 21 22 23]\n",
      "[[10 20 30]\n",
      " [11 12 13]\n",
      " [21 22 23]]\n"
     ]
    }
   ],
   "source": [
    "#hstack and vstack\n",
    "x=np.array([10,20,30])\n",
    "y=np.array([11,12,13])\n",
    "z=np.array([21,22,23])\n",
    "d = np.vstack((x,y,z))\n",
    "print(np.hstack((x,y,z)))\n",
    "print(np.vstack((x,y,z)))"
   ]
  },
  {
   "cell_type": "code",
   "execution_count": 60,
   "metadata": {},
   "outputs": [
    {
     "data": {
      "text/plain": [
       "array([[23, 22, 21],\n",
       "       [13, 12, 11],\n",
       "       [30, 20, 10]])"
      ]
     },
     "execution_count": 60,
     "metadata": {},
     "output_type": "execute_result"
    }
   ],
   "source": [
    "#revesrse columns and rows both\n",
    "\n",
    "np.flip(d)"
   ]
  },
  {
   "cell_type": "code",
   "execution_count": 61,
   "metadata": {},
   "outputs": [
    {
     "data": {
      "text/plain": [
       "array([[30, 20, 10],\n",
       "       [13, 12, 11],\n",
       "       [23, 22, 21]])"
      ]
     },
     "execution_count": 61,
     "metadata": {},
     "output_type": "execute_result"
    }
   ],
   "source": [
    "np.flip(d,axis=1)\n",
    "# If you want to reverse only the columns of an array while keeping the rows unchanged, you can specify axis=1"
   ]
  },
  {
   "cell_type": "code",
   "execution_count": 62,
   "metadata": {},
   "outputs": [
    {
     "name": "stdout",
     "output_type": "stream",
     "text": [
      "[10.         12.85714286 15.71428571 18.57142857 21.42857143 24.28571429\n",
      " 27.14285714]\n"
     ]
    }
   ],
   "source": [
    "#endpoint=False will exclude 30\n",
    "x=np.linspace(10,30,7,endpoint=False) # 3rd params : generate number of values between start and stop values\n",
    "print(x) # endpoint = False --means stop value 30 will not be included in the generated values"
   ]
  },
  {
   "cell_type": "code",
   "execution_count": 69,
   "metadata": {},
   "outputs": [
    {
     "name": "stdout",
     "output_type": "stream",
     "text": [
      "[[4 2 5]\n",
      " [9 6 7]\n",
      " [7 4 2]]\n"
     ]
    },
    {
     "data": {
      "text/plain": [
       "dtype('int32')"
      ]
     },
     "execution_count": 69,
     "metadata": {},
     "output_type": "execute_result"
    }
   ],
   "source": [
    "# creating an array with random values \n",
    "random_arr = np.random.randint(1,10,size = (3,3))# create a 3*3 array with random values\n",
    "print(random_arr)\n",
    "random_arr.dtype"
   ]
  },
  {
   "cell_type": "code",
   "execution_count": null,
   "metadata": {},
   "outputs": [],
   "source": []
  },
  {
   "cell_type": "code",
   "execution_count": 68,
   "metadata": {},
   "outputs": [
    {
     "name": "stdout",
     "output_type": "stream",
     "text": [
      "[[0.68689682 0.09569931 0.24391501]\n",
      " [0.66012544 0.95724244 0.43773735]\n",
      " [0.04072332 0.33562691 0.58639292]]\n"
     ]
    }
   ],
   "source": [
    "random_float_arr = np.random.rand(3,3) # create a 3*3 array with random values\n",
    "print(random_float_arr)"
   ]
  },
  {
   "cell_type": "markdown",
   "metadata": {},
   "source": [
    "Broadcasting in NumPy allows arrays with different shapes to be used together in arithmetic operations. It automatically aligns the shapes of arrays to perform element-wise operations efficiently. Here are a few examples to illustrate broadcasting:"
   ]
  },
  {
   "cell_type": "code",
   "execution_count": 70,
   "metadata": {},
   "outputs": [
    {
     "name": "stdout",
     "output_type": "stream",
     "text": [
      "[6 7 8 9]\n"
     ]
    }
   ],
   "source": [
    "arr = np.array([1,2,3,4])\n",
    "scalar = 5\n",
    "result = arr + scalar\n",
    "print(result)"
   ]
  },
  {
   "cell_type": "code",
   "execution_count": 71,
   "metadata": {},
   "outputs": [
    {
     "name": "stdout",
     "output_type": "stream",
     "text": [
      "[[11 12 13]\n",
      " [24 25 26]]\n"
     ]
    }
   ],
   "source": [
    "arr1 = np.array([[1, 2, 3], [4, 5, 6]])\n",
    "arr2 = np.array([[10], [20]])\n",
    "\n",
    "result = arr1 + arr2\n",
    "print(result)\n"
   ]
  },
  {
   "cell_type": "code",
   "execution_count": null,
   "metadata": {},
   "outputs": [],
   "source": [
    "# fancy Indexing \n",
    "arr = np.array([10, 20, 30, 40, 50])\n",
    "indices = np.array([1, 3])\n",
    "\n",
    "#The element at index 1 in arr is 20, and the element at index 3 is 40. These elements are selected and returned in the resulting array.\n",
    "result = arr[indices] # it will create a result array \n",
    "print(result)\n"
   ]
  }
 ],
 "metadata": {
  "kernelspec": {
   "display_name": "Python 3",
   "language": "python",
   "name": "python3"
  },
  "language_info": {
   "codemirror_mode": {
    "name": "ipython",
    "version": 3
   },
   "file_extension": ".py",
   "mimetype": "text/x-python",
   "name": "python",
   "nbconvert_exporter": "python",
   "pygments_lexer": "ipython3",
   "version": "3.7.4"
  }
 },
 "nbformat": 4,
 "nbformat_minor": 2
}
